{
 "cells": [
  {
   "cell_type": "markdown",
   "id": "e00ac930-37fe-4491-a9ce-523881e16638",
   "metadata": {},
   "source": [
    "## Final Data Analysis\n",
    "\n",
    "I will begin by saying that this is not necessarily a project that lends itself to an easy summary of the data.  This project is more of a tool that allows potential investors to filter through all real estate listings in the United States to find 5-10 that they want to go see.  Different investors will have different critieria they use to narrow down their search.  For instance, some investors place more emphasis on job and population growth numbers when narrowing down a list of potential markets, while others will prioritize the price to rent ratio.  All of these are worthy metrics, but they will lead to different results.  \n",
    "\n",
    "Also, this tool will rank properties by the cap rate (Net Operating Income / Total Cost) for a traditional yearly rental.  However, it provides other ratios and metrics that an investor may find more applicable to their own investment criteria.  For instance, somone who rents properties out as short-term rentals (aka AirBNB) will want to look at the AirBNB cap rate.  Other investors are loyal to the rent ratio as their metric of choice.  Others look specifically at Net Operating Income (NOI) because they are using a special type of financing that requires a minimum NOI. The type and terms of investor financing will typically dictate the ratios and metrics they see as being the most important.  This tool allows them to see all of these metrics on both a market (city/state) and individual property level so they can narrow it down based on their invdividual needs.\n",
    "\n",
    "Therefore, when I think about creating a table or dataframe that gives a summary of the data, it doesn't seem to make sense within the scope of this project, and any aggregation of the data from which someone could draw hard and fast conclusions could be misleading.\n",
    "\n"
   ]
  }
 ],
 "metadata": {
  "kernelspec": {
   "display_name": "Python 3",
   "language": "python",
   "name": "python3"
  },
  "language_info": {
   "codemirror_mode": {
    "name": "ipython",
    "version": 3
   },
   "file_extension": ".py",
   "mimetype": "text/x-python",
   "name": "python",
   "nbconvert_exporter": "python",
   "pygments_lexer": "ipython3",
   "version": "3.11.0"
  },
  "vscode": {
   "interpreter": {
    "hash": "aee8b7b246df8f9039afb4144a1f6fd8d2ca17a180786b69acc140d282b71a49"
   }
  }
 },
 "nbformat": 4,
 "nbformat_minor": 5
}
